{
 "cells": [
  {
   "cell_type": "code",
   "execution_count": 5,
   "metadata": {},
   "outputs": [],
   "source": [
    "import numpy as np"
   ]
  },
  {
   "cell_type": "code",
   "execution_count": 6,
   "metadata": {},
   "outputs": [],
   "source": [
    "from utils import *"
   ]
  },
  {
   "cell_type": "code",
   "execution_count": 7,
   "metadata": {},
   "outputs": [],
   "source": [
    "lstm_pred = np.load('lstm_pred.npy')\n",
    "real_lstm = np.load('real.npy')"
   ]
  },
  {
   "cell_type": "code",
   "execution_count": 8,
   "metadata": {},
   "outputs": [],
   "source": [
    "y_hat_main = np.load('y_hat_main.npy')\n",
    "y_test_main = np.load('y_test_main.npy')"
   ]
  },
  {
   "cell_type": "code",
   "execution_count": 10,
   "metadata": {},
   "outputs": [
    {
     "name": "stdout",
     "output_type": "stream",
     "text": [
      "440 440\n"
     ]
    }
   ],
   "source": [
    "print(len(y_test_main),len(lstm_pred))"
   ]
  },
  {
   "cell_type": "code",
   "execution_count": 8,
   "metadata": {},
   "outputs": [
    {
     "name": "stdout",
     "output_type": "stream",
     "text": [
      "MSE: 18402.19271\n",
      "RMSE: 135.65468\n",
      "MAE: 100.44754\n",
      "R2: 0.98447\n"
     ]
    }
   ],
   "source": [
    "evaluation_metric(y_test_main,y_hat_main)"
   ]
  },
  {
   "cell_type": "code",
   "execution_count": 9,
   "metadata": {},
   "outputs": [
    {
     "name": "stdout",
     "output_type": "stream",
     "text": [
      "MSE: 24891.32925\n",
      "RMSE: 157.76986\n",
      "MAE: 119.29204\n",
      "R2: 0.97885\n"
     ]
    }
   ],
   "source": [
    "evaluation_metric(lstm_pred,real_lstm)"
   ]
  },
  {
   "cell_type": "code",
   "execution_count": 10,
   "metadata": {},
   "outputs": [
    {
     "name": "stdout",
     "output_type": "stream",
     "text": [
      "440 440\n"
     ]
    }
   ],
   "source": [
    "print(len(y_test_main),len(y_hat_main))"
   ]
  },
  {
   "cell_type": "code",
   "execution_count": 10,
   "metadata": {},
   "outputs": [
    {
     "name": "stdout",
     "output_type": "stream",
     "text": [
      "MSE: 22318.34790\n",
      "RMSE: 149.39327\n",
      "MAE: 117.50312\n",
      "R2: 0.94544\n",
      "None\n",
      "MSE: 11860.60019\n",
      "RMSE: 108.90638\n",
      "MAE: 85.19888\n",
      "R2: 0.98056\n",
      "None\n",
      "MSE: 10236.51132\n",
      "RMSE: 101.17565\n",
      "MAE: 76.47705\n",
      "R2: 0.94211\n",
      "None\n",
      "MSE: 26624.63247\n",
      "RMSE: 163.17056\n",
      "MAE: 116.91471\n",
      "R2: 0.95988\n",
      "None\n",
      "MSE: 25235.16163\n",
      "RMSE: 158.85579\n",
      "MAE: 115.22611\n",
      "R2: 0.60808\n",
      "None\n"
     ]
    }
   ],
   "source": [
    "prev = 0\n",
    "for i in [100,200,300,400,439]:\n",
    "    print(evaluation_metric(y_test_main[prev:i],y_hat_main[prev:i]))\n",
    "    prev = i\n"
   ]
  },
  {
   "cell_type": "code",
   "execution_count": 11,
   "metadata": {},
   "outputs": [
    {
     "name": "stdout",
     "output_type": "stream",
     "text": [
      "MSE: 52842.55226\n",
      "RMSE: 229.87508\n",
      "MAE: 179.63659\n",
      "R2: 0.87274\n",
      "None\n",
      "MSE: 26432.19344\n",
      "RMSE: 162.57981\n",
      "MAE: 126.75172\n",
      "R2: 0.95640\n",
      "None\n",
      "MSE: 15836.18407\n",
      "RMSE: 125.84190\n",
      "MAE: 100.67253\n",
      "R2: 0.90561\n",
      "None\n",
      "MSE: 10080.32348\n",
      "RMSE: 100.40081\n",
      "MAE: 83.44222\n",
      "R2: 0.98521\n",
      "None\n",
      "MSE: 11085.26184\n",
      "RMSE: 105.28657\n",
      "MAE: 87.46394\n",
      "R2: 0.82897\n",
      "None\n"
     ]
    }
   ],
   "source": [
    "\n",
    "prev = 0\n",
    "for i in [100,200,300,400,439]:\n",
    "    print(evaluation_metric(lstm_pred[prev:i],real_lstm[prev:i]))\n",
    "    prev = i"
   ]
  },
  {
   "cell_type": "code",
   "execution_count": 12,
   "metadata": {},
   "outputs": [],
   "source": [
    "ranges = [[0,200],[100,300],[200,400],[300,439]]"
   ]
  },
  {
   "cell_type": "code",
   "execution_count": 13,
   "metadata": {},
   "outputs": [
    {
     "name": "stdout",
     "output_type": "stream",
     "text": [
      "MSE: 39637.37285\n",
      "RMSE: 199.09137\n",
      "MAE: 153.19416\n",
      "R2: 0.92378\n",
      "None\n",
      "MSE: 21134.18876\n",
      "RMSE: 145.37603\n",
      "MAE: 113.71213\n",
      "R2: 0.96947\n",
      "None\n",
      "MSE: 12958.25378\n",
      "RMSE: 113.83433\n",
      "MAE: 92.05737\n",
      "R2: 0.97439\n",
      "None\n",
      "MSE: 10362.28461\n",
      "RMSE: 101.79531\n",
      "MAE: 84.57061\n",
      "R2: 0.98579\n",
      "None\n"
     ]
    }
   ],
   "source": [
    "for R in ranges:\n",
    "    l = R[0]\n",
    "    r = R[1]\n",
    "    print(evaluation_metric(lstm_pred[l:r],real_lstm[l:r]))\n"
   ]
  },
  {
   "cell_type": "code",
   "execution_count": 14,
   "metadata": {},
   "outputs": [
    {
     "name": "stdout",
     "output_type": "stream",
     "text": [
      "MSE: 17089.47405\n",
      "RMSE: 130.72672\n",
      "MAE: 101.35100\n",
      "R2: 0.96692\n",
      "None\n",
      "MSE: 11048.55576\n",
      "RMSE: 105.11211\n",
      "MAE: 80.83796\n",
      "R2: 0.98396\n",
      "None\n",
      "MSE: 18430.57190\n",
      "RMSE: 135.75924\n",
      "MAE: 96.69588\n",
      "R2: 0.96391\n",
      "None\n",
      "MSE: 26234.78094\n",
      "RMSE: 161.97154\n",
      "MAE: 116.44093\n",
      "R2: 0.96302\n",
      "None\n"
     ]
    }
   ],
   "source": [
    "for R in ranges:\n",
    "    l = R[0]\n",
    "    r = R[1]\n",
    "    print(evaluation_metric(y_test_main[l:r],y_hat_main[l:r]))\n"
   ]
  },
  {
   "cell_type": "code",
   "execution_count": null,
   "metadata": {},
   "outputs": [],
   "source": []
  }
 ],
 "metadata": {
  "kernelspec": {
   "display_name": "base",
   "language": "python",
   "name": "python3"
  },
  "language_info": {
   "codemirror_mode": {
    "name": "ipython",
    "version": 3
   },
   "file_extension": ".py",
   "mimetype": "text/x-python",
   "name": "python",
   "nbconvert_exporter": "python",
   "pygments_lexer": "ipython3",
   "version": "3.9.13"
  }
 },
 "nbformat": 4,
 "nbformat_minor": 2
}
